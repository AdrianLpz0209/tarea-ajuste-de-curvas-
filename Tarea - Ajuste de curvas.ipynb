{
 "cells": [
  {
   "cell_type": "markdown",
   "metadata": {},
   "source": [
    "# Tarea - Ajuste de curvas"
   ]
  },
  {
   "cell_type": "code",
   "execution_count": 1,
   "metadata": {},
   "outputs": [],
   "source": [
    "import numpy as np\n",
    "import pandas as pd\n",
    "import matplotlib.pyplot as plt"
   ]
  },
  {
   "cell_type": "markdown",
   "metadata": {},
   "source": [
    "---\n",
    "### Problema 1\n",
    "\n",
    "Los siguientes datos representan el costo en dólares de la electricidad según Western Electricity Coordinating Council desde el 2014 (y su pronóstico para el 2040)\n",
    "\n",
    "Tomado de:\n",
    "https://www.quandl.com/data/EIA/AEO_2016_REF_NO_CPP_PRCE_NA_COMM_NA_ELC_NA_WECCRKS_NCNTPKWH_A-Electricity-End-Use-Prices-Commercial-Western-Electricity-Coordinating-Council-Rockies-No-CPP-AEO2016"
   ]
  },
  {
   "cell_type": "code",
   "execution_count": 1,
   "metadata": {},
   "outputs": [],
   "source": [
    "import numpy as np\n",
    "import scipy.optimize as opt \n",
    "# Datos extraidos de la página de quandl\n",
    "data = np.array([10.051101,  9.259127,  9.444813,  9.557723,  9.977324, 10.298326,\n",
    "       10.447217, 10.550506, 10.590784, 10.657418, 10.743085, 10.831965,\n",
    "       10.988435, 11.153055, 11.313326, 11.557165, 11.860136, 12.122511,\n",
    "       12.356448, 12.611391, 12.814569, 13.111372, 13.357134, 13.559012,\n",
    "       13.85861 , 14.135924, 14.436149])"
   ]
  },
  {
   "cell_type": "markdown",
   "metadata": {},
   "source": [
    "1. Ajuste estos datos a polinomios de grado 1 hasta 3 (los datos en $x$ corresponden a los años de 2014 a 2040, sin embargo son valores muy grandes para elevarlos a una potencia, use una representación para estos años, por ejemplo $2014 \\rightarrow 0$ y $2040\\rightarrow 26$).\n",
    "\n",
    "2. Muestre las tres curvas ajustadas junto a los datos de los costos en un solo gráfico"
   ]
  },
  {
   "cell_type": "code",
   "execution_count": 23,
   "metadata": {},
   "outputs": [],
   "source": [
    "data = 27\n",
    "x = np.linspace(0, 26, 27)\n",
    "y = np.array([10.051101,  9.259127,  9.444813,  9.557723,  9.977324, 10.298326,\n",
    "       10.447217, 10.550506, 10.590784, 10.657418, 10.743085, 10.831965,\n",
    "       10.988435, 11.153055, 11.313326, 11.557165, 11.860136, 12.122511,\n",
    "       12.356448, 12.611391, 12.814569, 13.111372, 13.357134, 13.559012,\n",
    "       13.85861 , 14.135924, 14.436149])\n",
    "\n",
    "\n",
    "\n"
   ]
  },
  {
   "cell_type": "code",
   "execution_count": 36,
   "metadata": {},
   "outputs": [
    {
     "data": {
      "text/plain": [
       "      fun: 2.370488951818326\n",
       " hess_inv: array([[ 0.07010583, -0.00396825],\n",
       "       [-0.00396825,  0.00030525]])\n",
       "      jac: array([5.96046448e-06, 6.64591789e-06])\n",
       "  message: 'Optimization terminated successfully.'\n",
       "     nfev: 15\n",
       "      nit: 3\n",
       "     njev: 5\n",
       "   status: 0\n",
       "  success: True\n",
       "        x: array([9.11567672, 0.18667053])"
      ]
     },
     "execution_count": 36,
     "metadata": {},
     "output_type": "execute_result"
    }
   ],
   "source": [
    "def costo_dls(beta, x, y):\n",
    "    beta = np.reshape(beta, [2, -1])\n",
    "    prediccion = x @ beta\n",
    "    costodls = (y-prediccion).T @ (y-prediccion)\n",
    "    return costodls[0][0]\n",
    "    \n",
    "ones = np.ones((data, 1))\n",
    "x1 = np.reshape(x, [data, -1])\n",
    "X = np.hstack((ones, x1))\n",
    "y = np.reshape(y, [data, -1])\n",
    "\n",
    "beta_1 = np.random.rand(2)\n",
    "\n",
    "costo_dls(beta_1, X, y)\n",
    "sol = opt.minimize(costo_dls, beta_1, args=(X, y))\n",
    "sol "
   ]
  },
  {
   "cell_type": "code",
   "execution_count": 40,
   "metadata": {},
   "outputs": [
    {
     "data": {
      "text/plain": [
       "      fun: 2.3704889518153625\n",
       " hess_inv: array([[ 0.07010585, -0.00198413, -0.00198413],\n",
       "       [-0.00198413,  0.50007631, -0.49992369],\n",
       "       [-0.00198413, -0.49992369,  0.50007631]])\n",
       "      jac: array([-2.98023224e-08, -5.96046448e-08, -5.96046448e-08])\n",
       "  message: 'Optimization terminated successfully.'\n",
       "     nfev: 28\n",
       "      nit: 5\n",
       "     njev: 7\n",
       "   status: 0\n",
       "  success: True\n",
       "        x: array([9.11567633e+00, 6.13798764e-03, 1.80532568e-01])"
      ]
     },
     "execution_count": 40,
     "metadata": {},
     "output_type": "execute_result"
    }
   ],
   "source": [
    "def costo_dls(beta, x, y):\n",
    "    beta = np.reshape(beta, [3, -1])\n",
    "    prediccion = x @ beta\n",
    "    costodls = (y-prediccion).T @ (y-prediccion)\n",
    "    return costodls[0][0]\n",
    "    \n",
    "ones = np.ones((data, 1))\n",
    "x1 = np.reshape(x, [data, -1])\n",
    "x2= np.reshape(x, [data, -1])\n",
    "X = np.hstack((ones, x1, x2))\n",
    "y = np.reshape(y, [data, -1])\n",
    "\n",
    "beta_1 = np.random.rand(3)\n",
    "\n",
    "costo_dls(beta_1, X, y)\n",
    "sol = opt.minimize(costo_dls, beta_1, args=(X, y))\n",
    "sol "
   ]
  },
  {
   "cell_type": "code",
   "execution_count": 41,
   "metadata": {},
   "outputs": [
    {
     "data": {
      "text/plain": [
       "      fun: 2.3704889518153616\n",
       " hess_inv: array([[ 0.07010585, -0.00132275, -0.00132275, -0.00132275],\n",
       "       [-0.00132275,  0.66670058, -0.33329942, -0.33329942],\n",
       "       [-0.00132275, -0.33329942,  0.66670058, -0.33329942],\n",
       "       [-0.00132275, -0.33329942, -0.33329942,  0.66670058]])\n",
       "      jac: array([0., 0., 0., 0.])\n",
       "  message: 'Optimization terminated successfully.'\n",
       "     nfev: 40\n",
       "      nit: 7\n",
       "     njev: 8\n",
       "   status: 0\n",
       "  success: True\n",
       "        x: array([ 9.11567633, -0.37686535,  0.09915963,  0.46437628])"
      ]
     },
     "execution_count": 41,
     "metadata": {},
     "output_type": "execute_result"
    }
   ],
   "source": [
    "def costo_dls(beta, x, y):\n",
    "    beta = np.reshape(beta, [4, -1])\n",
    "    prediccion = x @ beta\n",
    "    costodls = (y-prediccion).T @ (y-prediccion)\n",
    "    return costodls[0][0]\n",
    "    \n",
    "ones = np.ones((data, 1))\n",
    "x1 = np.reshape(x, [data, -1])\n",
    "x2= np.reshape(x, [data, -1])\n",
    "x3 = np.reshape(x, [data, -1])\n",
    "X = np.hstack((ones, x1, x2, x3))\n",
    "y = np.reshape(y, [data, -1])\n",
    "\n",
    "beta_1 = np.random.rand(4)\n",
    "\n",
    "costo_dls(beta_1, X, y)\n",
    "sol = opt.minimize(costo_dls, beta_1, args=(X, y))\n",
    "sol "
   ]
  },
  {
   "cell_type": "code",
   "execution_count": null,
   "metadata": {},
   "outputs": [],
   "source": []
  },
  {
   "cell_type": "code",
   "execution_count": null,
   "metadata": {},
   "outputs": [],
   "source": []
  },
  {
   "cell_type": "code",
   "execution_count": null,
   "metadata": {},
   "outputs": [],
   "source": []
  },
  {
   "cell_type": "markdown",
   "metadata": {},
   "source": [
    "---"
   ]
  },
  {
   "cell_type": "markdown",
   "metadata": {},
   "source": [
    "___\n",
    "### Problema 2\n",
    "\n",
    "El archivo `population_data.csv` contiene información histórica anual de México relativa a la población, nacimientos y muertes desde el año 1950 hasta el año 2015. La primer columna corresponde a los años, la segunda a la población, la tercera a los nacimientos y la última a los decesos.\n",
    "\n",
    "Tomado de: https://en.wikipedia.org/wiki/Demographics_of_Mexico.\n",
    "\n",
    "Importe estos datos usando la función `read_csv` del paquete `pandas`\n",
    "\n",
    "1. Usando los años como variable independiente $x$ y la población como variable dependiente $y$, ajustar polinomios de grado 1 hasta grado 3.\n",
    "\n",
    "    * Mostrar en un solo gráfico los datos de población contra los años, y los polinomios ajustados.\n",
    "\n",
    "    * Graficar el error cuadrático acumulado contra el número de términos.\n",
    "\n",
    "2. Repetir el punto 1 usando los nacimientos como variable dependiente $y$. Grafique las curvas ajustadas junto con los datos de nacimientos. Vea en un gráfico el error acumulado."
   ]
  },
  {
   "cell_type": "markdown",
   "metadata": {},
   "source": [
    "---"
   ]
  },
  {
   "cell_type": "code",
   "execution_count": null,
   "metadata": {},
   "outputs": [],
   "source": []
  },
  {
   "cell_type": "code",
   "execution_count": null,
   "metadata": {},
   "outputs": [],
   "source": []
  },
  {
   "cell_type": "code",
   "execution_count": null,
   "metadata": {},
   "outputs": [],
   "source": []
  },
  {
   "cell_type": "code",
   "execution_count": null,
   "metadata": {},
   "outputs": [],
   "source": []
  }
 ],
 "metadata": {
  "kernelspec": {
   "display_name": "Python 3 (ipykernel)",
   "language": "python",
   "name": "python3"
  },
  "language_info": {
   "codemirror_mode": {
    "name": "ipython",
    "version": 3
   },
   "file_extension": ".py",
   "mimetype": "text/x-python",
   "name": "python",
   "nbconvert_exporter": "python",
   "pygments_lexer": "ipython3",
   "version": "3.9.12"
  }
 },
 "nbformat": 4,
 "nbformat_minor": 2
}
